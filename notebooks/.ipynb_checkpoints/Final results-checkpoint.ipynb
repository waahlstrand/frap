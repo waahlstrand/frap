{
 "cells": [
  {
   "cell_type": "code",
   "execution_count": 27,
   "metadata": {},
   "outputs": [],
   "source": [
    "%matplotlib inline\n",
    "\n",
    "import sys\n",
    "import os\n",
    "import re\n",
    "sys.path.append(\"../\") # go to parent dir\n",
    "\n",
    "\n",
    "import torch\n",
    "import torch.nn as nn\n",
    "import matplotlib.pyplot as plt\n",
    "from data.datasets import SpatiotemporalDataset, ExperimentalDataset, TemporalDataset\n",
    "from models.spatiotemporal import Downsampler\n",
    "from models.temporal import CNN1d, Split\n",
    "\n",
    "plt.rcParams[\"figure.figsize\"] = (12,5)\n",
    "\n",
    "import numpy as np\n",
    "import pandas as pd\n",
    "import h5py\n",
    "import hdf5storage\n",
    "\n",
    "from ipywidgets import IntProgress\n",
    "from IPython.display import display\n",
    "import time\n",
    "from tqdm import tqdm\n",
    "import json\n",
    "import pickle"
   ]
  },
  {
   "cell_type": "code",
   "execution_count": 2,
   "metadata": {},
   "outputs": [],
   "source": [
    "def MSE(y, y_hat):\n",
    "    return np.mean(np.power((y-y_hat), 2))\n",
    "\n",
    "def MSE_DataFrame(df):\n",
    "    data = pd.DataFrame([[df[\"D\"].iloc[0],\n",
    "                          df[\"c0\"].iloc[0],\n",
    "                          df[\"alpha\"].iloc[0],\n",
    "                          df[\"a\"].iloc[0],\n",
    "                        MSE(df[\"D_ls_px\"], df[\"D\"]), \n",
    "                        MSE(df[\"c0_ls_px\"], df[\"c0\"]),\n",
    "                         MSE(df[\"alpha_ls_px\"], df[\"alpha\"]),\n",
    "\n",
    "                         MSE(df[\"D_ls_rc\"], df[\"D\"]),\n",
    "                         MSE(df[\"c0_ls_rc\"], df[\"c0\"]),\n",
    "                         MSE(df[\"alpha_ls_rc\"], df[\"alpha\"]),\n",
    "\n",
    "                         MSE(df[\"D_ls_nn\"], df[\"D\"]),\n",
    "                         MSE(df[\"c0_ls_nn\"], df[\"c0\"]),\n",
    "                         MSE(df[\"alpha_ls_nn\"], df[\"alpha\"])]], \n",
    "                        columns=df.columns)\n",
    "    \n",
    "    return data\n",
    "\n",
    "def avg_DataFrame(df):\n",
    "    data = df.apply(np.mean)\n",
    "    \n",
    "    return data\n",
    "\n",
    "def std_DataFrame(df):\n",
    "    \n",
    "    params = df[df.columns[0:3]]\n",
    "    values = df[df.columns[3:-1]]\n",
    "    data = df.apply(np.std).to_frame().transpose()\n",
    "    data[\"D\"] = df[\"D\"].iloc[0]\n",
    "    data[\"c0\"] = df[\"c0\"].iloc[0]\n",
    "    data[\"alpha\"] = df[\"alpha\"].iloc[0]\n",
    "    data[\"a\"] = df[\"a\"].iloc[0]\n",
    "    \n",
    "    return data\n",
    "\n",
    "\n",
    "def comparison_results(model, df, mode=\"px\"):\n",
    "    \n",
    "    count = 0\n",
    "    results = []\n",
    "    \n",
    "    model = model.cuda()\n",
    "    \n",
    "    with tqdm(total=len(df), file=sys.stdout) as pbar:\n",
    "        for index, row in df.iterrows():\n",
    "            \n",
    "            if mode == \"px\":\n",
    "                X_px_file = row[\"x_px\"]\n",
    "                X_px = np.fromfile(X_px_file, dtype=np.float32)\n",
    "                X = np.reshape(X_px, (32, 1, 110, 256, 256), order=\"F\")\n",
    "                \n",
    "            elif mode == \"rc\":\n",
    "                X_rc_file = row[\"x_rc\"]\n",
    "                X_rc = np.fromfile(X_rc_file, dtype=np.float32)\n",
    "                X = np.reshape(X_rc, (32, 1, 110), order=\"F\")\n",
    "\n",
    "            # Extract the test data\n",
    "            y_px_file = row[\"y_ls_px\"]\n",
    "            y_rc_file = row[\"y_ls_rc\"]\n",
    "\n",
    "            a     = row[\"a\"]\n",
    "            D     = row[\"D\"]\n",
    "            c0    = row[\"c0\"]\n",
    "            alpha = row[\"alpha\"]\n",
    "\n",
    "            # Read the files\n",
    "            y_px = np.fromfile(y_px_file, dtype=np.float32)\n",
    "            y_rc = np.fromfile(y_rc_file, dtype=np.float32)\n",
    "\n",
    "            y_px = np.reshape(y_px, (32, 3), order=\"F\")\n",
    "            #y_px = y_px.T\n",
    "\n",
    "            y_rc = np.reshape(y_rc, (32, 3), order=\"F\")\n",
    "            #y_rc = y_rc.T\n",
    "\n",
    "\n",
    "            # Make prediction with model\n",
    "            y_nn_px = model(torch.from_numpy(X).cuda()).detach().cpu().numpy()\n",
    "            \n",
    "            for i in range(0,32):\n",
    "                \n",
    "                results_dict = {}\n",
    "                results_dict.update({\"D\": D,\n",
    "                                    \"c0\": c0,\n",
    "                                    \"alpha\": alpha,\n",
    "                                    \"a\": a,\n",
    "                                    \"D_ls_px\": y_px[i, 0],\n",
    "                                    \"c0_ls_px\": y_px[i, 1],\n",
    "                                    \"alpha_ls_px\": y_px[i, 2],\n",
    "                                    \"D_ls_rc\": y_rc[i, 0],\n",
    "                                    \"c0_ls_rc\": y_rc[i, 1],\n",
    "                                    \"alpha_ls_rc\": y_rc[i, 2],\n",
    "                                    \"D_ls_nn\": y_nn_px[i, 0],\n",
    "                                    \"c0_ls_nn\": y_nn_px[i, 1],\n",
    "                                    \"alpha_ls_nn\": y_nn_px[i, 2]})\n",
    "            \n",
    "                results.append(results_dict)\n",
    "        \n",
    "            \n",
    "            pbar.set_description('processed: %d' % (1 + count))\n",
    "            pbar.update(1)\n",
    "            count += 1\n",
    "            \n",
    "        return pd.DataFrame(results)\n",
    "        \n",
    "        \n",
    "\n",
    "\n",
    "def collect_ls_experimental(wt, ls=\"rc\", zoom=True):\n",
    "    \n",
    "    exp_dir = \"/home/sms/vws/data/experimental/\"\n",
    "    px = 7.5980e-07\n",
    "    \n",
    "    if zoom:\n",
    "        if ls == \"rc\":\n",
    "            regex = r\"aotf_zoom.*y_hat_rc_ls.bin\"\n",
    "        elif ls == \"px\":\n",
    "            regex = r\"aotf_zoom.*y_hat_px_ls.bin\"\n",
    "    else:\n",
    "        if ls == \"rc\":\n",
    "            regex = r\"aotf_no_zoom.*y_hat_rc_ls.bin\"\n",
    "        elif ls == \"px\":\n",
    "            regex = r\"aotf_no_zoom.*y_hat_px_ls.bin\"\n",
    "        \n",
    "    if wt == 32:\n",
    "        path = os.path.join(exp_dir, \"32ww\", \"data\")\n",
    "    elif wt == 56:\n",
    "        path = os.path.join(exp_dir, \"56ww\", \"data\")\n",
    "    \n",
    "    y_files =  [f for f in os.listdir(path) if re.search(regex, f)]\n",
    "    \n",
    "    df = pd.DataFrame()\n",
    "    \n",
    "    for file in y_files:\n",
    "        y_path = os.path.join(path, file)\n",
    "        y = np.fromfile(y_path, dtype=np.float32)\n",
    "        y = np.reshape(y, (1,3), order=\"F\")\n",
    "        \n",
    "        df = pd.concat([df, pd.DataFrame(y)], axis=0)\n",
    "        \n",
    "    df.columns = [\"D\", \"c0\", \"alpha\"]\n",
    "    \n",
    "    df[\"D\"] = np.power(10,df[\"D\"])*np.power(px,2)\n",
    "    \n",
    "    return  {\"D\": (df[\"D\"].mean(), df[\"D\"].std()), \n",
    "             \"c0\": (df[\"c0\"].mean(), df[\"c0\"].std()), \n",
    "             \"alpha\": (df[\"alpha\"].mean(), df[\"alpha\"].std())}\n",
    "        \n",
    "\n",
    "def predict(model, loader):\n",
    "    \n",
    "    df = pd.DataFrame()\n",
    "        \n",
    "    with torch.set_grad_enabled(False):\n",
    "        for i, batch in enumerate(loader):\n",
    "                \n",
    "            X = batch[\"X\"]\n",
    "\n",
    "            # Feed forward the data\n",
    "            prediction = model(X)\n",
    "\n",
    "            df = pd.concat([df, pd.DataFrame(prediction.numpy())], axis=0)\n",
    "            \n",
    "    \n",
    "    df.columns = [\"D\", \"c0\", \"alpha\"]\n",
    "\n",
    "    return df\n",
    "\n",
    "def test(model, loader, criterion=nn.MSELoss(reduction='none')):\n",
    "    \n",
    "    rows = []\n",
    "        \n",
    "    with torch.set_grad_enabled(False):\n",
    "        for i, batch in enumerate(loader):\n",
    "                \n",
    "            data_dict = {}\n",
    "\n",
    "            X = batch[\"X\"]\n",
    "            y = batch[\"y\"]\n",
    "\n",
    "            # Feed forward the data\n",
    "            prediction = model(X)\n",
    "        \n",
    "            # Calculate the MSE loss\n",
    "            loss = criterion(prediction, y)\n",
    "\n",
    "                \n",
    "            full_loss    = torch.sum(loss.detach(), (0, 1))/(3*len(loader.dataset))\n",
    "            element_loss = torch.sum(loss.detach(), 0)/len(loader.dataset)\n",
    "                \n",
    "            data_dict.update({\"loss\": full_loss,\n",
    "                              \"D\": element_loss[0],\n",
    "                              \"c0\": element_loss[1],\n",
    "                              \"alpha\": element_loss[2]})\n",
    "\n",
    "            rows.append(data_dict)\n",
    "        \n",
    "    result = pd.DataFrame(rows) \n",
    "\n",
    "    #result = {\"loss\": full_loss/(3*len(loader.dataset)), \"param\": element_loss/len(loader.dataset)}\n",
    "\n",
    "    return result\n",
    "\n",
    "def predict_on_set(model, loader):\n",
    "    \n",
    "    df = pd.DataFrame()\n",
    "        \n",
    "    with torch.set_grad_enabled(False):\n",
    "        for i, batch in enumerate(loader):\n",
    "                \n",
    "           \n",
    "\n",
    "            X = batch[\"X\"]\n",
    "            file = batch[\"file\"]\n",
    "\n",
    "            # Feed forward the data\n",
    "            prediction = model(X)\n",
    "            \n",
    "            data = np.insert(prediction.numpy().astype(dtype=object), 3, file, axis=1)\n",
    "\n",
    "            df = pd.concat([df, pd.DataFrame(data)], axis=0)\n",
    "\n",
    "    \n",
    "    \n",
    "    df.columns = [\"D\", \"c0\", \"alpha\", \"file\"]\n",
    "        \n",
    "    result = df.reset_index() \n",
    "\n",
    "    #result = {\"loss\": full_loss/(3*len(loader.dataset)), \"param\": element_loss/len(loader.dataset)}\n",
    "\n",
    "    return result\n",
    "\n",
    "\n",
    "def experimental_test(model, wt, mode=\"px\", zoom=True):\n",
    "    \n",
    "    torch.manual_seed(0)\n",
    "    exp_dir = \"/home/sms/vws/data/experimental/\"\n",
    "    px = 7.5980e-07\n",
    "    \n",
    "    if zoom:\n",
    "        regex = r\"aotf_zoom.*px.bin\"\n",
    "    else:\n",
    "        regex = r\"aotf_no_zoom.*px.bin\"\n",
    "        \n",
    "    if zoom:\n",
    "        if mode == \"rc\":\n",
    "            regex = r\"aotf_zoom.*x_rc.bin\"\n",
    "        elif mode == \"px\":\n",
    "            regex = r\"aotf_zoom.*x_px.bin\"\n",
    "    else:\n",
    "        if mode == \"rc\":\n",
    "            regex = r\"aotf_no_zoom.*x_rc.bin\"\n",
    "        elif mode == \"px\":\n",
    "            regex = r\"aotf_no_zoom.*x_px.bin\"\n",
    "        \n",
    "    if wt == 32:\n",
    "        path = os.path.join(exp_dir, \"32ww\")\n",
    "    elif wt == 56:\n",
    "        path = os.path.join(exp_dir, \"56ww\")\n",
    "    \n",
    "    exp_set = ExperimentalDataset(path, mode=mode, regex=regex)\n",
    "    \n",
    "    exp_loader = torch.utils.data.DataLoader(exp_set, batch_size=8, shuffle=True, num_workers=8)\n",
    "    \n",
    "    df = predict(model, exp_loader)\n",
    "    \n",
    "    df[\"D\"] = np.power(10,df[\"D\"])*np.power(px,2)\n",
    "    \n",
    "    return  {\"D\": (df[\"D\"].mean(), df[\"D\"].std()), \n",
    "             \"c0\": (df[\"c0\"].mean(), df[\"c0\"].std()), \n",
    "             \"alpha\": (df[\"alpha\"].mean(), df[\"alpha\"].std())}\n",
    "\n",
    "def visualize_and_compare(y, y_hat):\n",
    "    \n",
    "    fig, axs   = plt.subplots(1, 3, figsize=(15, 5))\n",
    "    props1 = dict(boxstyle='round', facecolor='red', alpha=0.1)\n",
    "    props2 = dict(boxstyle='round', facecolor='wheat', alpha=0.5)\n",
    "\n",
    "    \n",
    "    param_name = [r\"$D$\", r\"$c_0$\", r\"$\\alpha$\"]\n",
    "    mse        = MSE(y, y_hat)\n",
    "    rmae       = RMAE(y, y_hat)\n",
    "    \n",
    "    for param in range(3):\n",
    "        \n",
    "        interval = [np.linspace(1,3), np.linspace(0.5,1), np.linspace(0.5,0.9)]\n",
    "        \n",
    "        axs[param].scatter(y[param, :], y_hat[param, :])\n",
    "        axs[param].plot(interval[param], interval[param], 'r')\n",
    "        axs[param].set_xlabel(\"y\")\n",
    "        axs[param].set_ylabel(\"y_hat\")\n",
    "        #axs[param].legend([])\n",
    "        #axs[param].set_title(param_name[param])\n",
    "        axs[param].text(0.05, 0.95, param_name[param], transform=axs[param].transAxes, fontsize=14,\n",
    "        verticalalignment='top', bbox=props1)\n",
    "        axs[param].text(0.05, 0.85, \"MSE = %4.e\" % (mse[param]), transform=axs[param].transAxes, fontsize=14,\n",
    "        verticalalignment='top', bbox=props2)\n",
    "        axs[param].text(0.05, 0.75, \"RMAE = %4.e\" % (rmae[param]), transform=axs[param].transAxes, fontsize=14,\n",
    "        verticalalignment='top', bbox=props2)\n",
    "        \n",
    "        #print(\"MSE:\", MSE(y, y_hat))\n",
    "        \n",
    "    #fig.suptitle('True vs Neural network')\n",
    "    plt.show()\n",
    "    "
   ]
  },
  {
   "cell_type": "code",
   "execution_count": 3,
   "metadata": {},
   "outputs": [
    {
     "data": {
      "text/plain": [
       "Downsampler(\n",
       "  (body): Sequential(\n",
       "    (0): Conv2d(110, 110, kernel_size=(4, 4), stride=(1, 1))\n",
       "    (1): BatchNorm2d(110, eps=1e-05, momentum=0.1, affine=True, track_running_stats=True)\n",
       "    (2): ReLU()\n",
       "    (3): MaxPool2d(kernel_size=3, stride=3, padding=0, dilation=1, ceil_mode=False)\n",
       "    (4): Conv2d(110, 110, kernel_size=(3, 3), stride=(1, 1))\n",
       "    (5): BatchNorm2d(110, eps=1e-05, momentum=0.1, affine=True, track_running_stats=True)\n",
       "    (6): ReLU()\n",
       "    (7): MaxPool2d(kernel_size=3, stride=3, padding=0, dilation=1, ceil_mode=False)\n",
       "    (8): Conv2d(110, 110, kernel_size=(3, 3), stride=(1, 1))\n",
       "    (9): BatchNorm2d(110, eps=1e-05, momentum=0.1, affine=True, track_running_stats=True)\n",
       "    (10): ReLU()\n",
       "    (11): MaxPool2d(kernel_size=3, stride=3, padding=0, dilation=1, ceil_mode=False)\n",
       "    (12): Conv2d(110, 110, kernel_size=(3, 3), stride=(1, 1))\n",
       "    (13): BatchNorm2d(110, eps=1e-05, momentum=0.1, affine=True, track_running_stats=True)\n",
       "    (14): ReLU()\n",
       "    (15): MaxPool2d(kernel_size=2, stride=2, padding=0, dilation=1, ceil_mode=False)\n",
       "    (16): Conv2d(110, 110, kernel_size=(2, 2), stride=(1, 1))\n",
       "    (17): BatchNorm2d(110, eps=1e-05, momentum=0.1, affine=True, track_running_stats=True)\n",
       "    (18): ReLU()\n",
       "    (19): MaxPool2d(kernel_size=2, stride=2, padding=0, dilation=1, ceil_mode=False)\n",
       "  )\n",
       "  (neck): Sequential(\n",
       "    (0): Conv1d(1, 32, kernel_size=(3,), stride=(1,))\n",
       "    (1): BatchNorm1d(32, eps=1e-05, momentum=0.1, affine=True, track_running_stats=True)\n",
       "    (2): ReLU()\n",
       "    (3): MaxPool1d(kernel_size=2, stride=2, padding=0, dilation=1, ceil_mode=False)\n",
       "  )\n",
       "  (head): Sequential(\n",
       "    (0): Linear(in_features=1728, out_features=1024, bias=True)\n",
       "    (1): ReLU()\n",
       "    (2): Linear(in_features=1024, out_features=512, bias=True)\n",
       "    (3): ReLU()\n",
       "    (4): Linear(in_features=512, out_features=3, bias=True)\n",
       "  )\n",
       ")"
      ]
     },
     "execution_count": 3,
     "metadata": {},
     "output_type": "execute_result"
    }
   ],
   "source": [
    "###### LOAD MODEL ######\n",
    "state = torch.load(\"/home/sms/vws/frappe/saved/final/states/600.pt\")\n",
    "model = Downsampler(batch_size=8)\n",
    "model.load_state_dict(state[\"model\"])\n",
    "model.eval()\n"
   ]
  },
  {
   "cell_type": "code",
   "execution_count": 4,
   "metadata": {},
   "outputs": [
    {
     "data": {
      "text/plain": [
       "Split(\n",
       "  (prebleach_nn): Sequential(\n",
       "    (0): Linear(in_features=10, out_features=256, bias=True)\n",
       "    (1): ReLU()\n",
       "    (2): Linear(in_features=256, out_features=256, bias=True)\n",
       "    (3): ReLU()\n",
       "    (4): Linear(in_features=256, out_features=256, bias=True)\n",
       "    (5): ReLU()\n",
       "    (6): Linear(in_features=256, out_features=64, bias=True)\n",
       "    (7): ReLU()\n",
       "    (8): Linear(in_features=64, out_features=32, bias=True)\n",
       "  )\n",
       "  (postbleach_nn): Sequential(\n",
       "    (0): Linear(in_features=100, out_features=256, bias=True)\n",
       "    (1): ReLU()\n",
       "    (2): Linear(in_features=256, out_features=256, bias=True)\n",
       "    (3): ReLU()\n",
       "    (4): Linear(in_features=256, out_features=256, bias=True)\n",
       "    (5): ReLU()\n",
       "    (6): Linear(in_features=256, out_features=64, bias=True)\n",
       "    (7): ReLU()\n",
       "    (8): Linear(in_features=64, out_features=64, bias=True)\n",
       "  )\n",
       "  (head): Sequential(\n",
       "    (0): Linear(in_features=96, out_features=256, bias=True)\n",
       "    (1): ReLU()\n",
       "    (2): Linear(in_features=256, out_features=64, bias=True)\n",
       "    (3): ReLU()\n",
       "    (4): Linear(in_features=64, out_features=3, bias=True)\n",
       "  )\n",
       ")"
      ]
     },
     "execution_count": 4,
     "metadata": {},
     "output_type": "execute_result"
    }
   ],
   "source": [
    "###### LOAD MODEL ######\n",
    "state = torch.load(\"/home/sms/vws/frappe/saved/split/final/states/2000.pt\")\n",
    "model_rc = Split(batch_size=32, n_hidden=32, n_filters=32)\n",
    "model_rc.load_state_dict(state[\"model\"])\n",
    "model_rc.eval()"
   ]
  },
  {
   "cell_type": "code",
   "execution_count": 77,
   "metadata": {},
   "outputs": [
    {
     "data": {
      "text/plain": [
       "{'D': (1.0028854e-10, 5.1413266e-12),\n",
       " 'c0': (0.7985523, 0.018320333),\n",
       " 'alpha': (0.7467502, 0.009062494)}"
      ]
     },
     "execution_count": 77,
     "metadata": {},
     "output_type": "execute_result"
    }
   ],
   "source": [
    "collect_ls_experimental(32, ls=\"px\", zoom=True)"
   ]
  },
  {
   "cell_type": "code",
   "execution_count": 78,
   "metadata": {},
   "outputs": [
    {
     "data": {
      "text/plain": [
       "{'D': (8.8375696e-11, 2.115849e-12),\n",
       " 'c0': (0.79827666, 0.018887158),\n",
       " 'alpha': (0.77897185, 0.0060173045)}"
      ]
     },
     "execution_count": 78,
     "metadata": {},
     "output_type": "execute_result"
    }
   ],
   "source": [
    "collect_ls_experimental(32, ls=\"rc\", zoom=True)"
   ]
  },
  {
   "cell_type": "code",
   "execution_count": 8,
   "metadata": {},
   "outputs": [
    {
     "data": {
      "text/plain": [
       "{'D': (1.10593305e-11, 3.2576204e-13),\n",
       " 'c0': (0.8168672, 0.01002975),\n",
       " 'alpha': (0.69931746, 0.0064046145)}"
      ]
     },
     "execution_count": 8,
     "metadata": {},
     "output_type": "execute_result"
    }
   ],
   "source": [
    "collect_ls_experimental(56, ls=\"px\", zoom=True)"
   ]
  },
  {
   "cell_type": "code",
   "execution_count": 9,
   "metadata": {},
   "outputs": [
    {
     "data": {
      "text/plain": [
       "{'D': (9.362482e-12, 3.5026466e-13),\n",
       " 'c0': (0.8164884, 0.010603363),\n",
       " 'alpha': (0.7358615, 0.0020967068)}"
      ]
     },
     "execution_count": 9,
     "metadata": {},
     "output_type": "execute_result"
    }
   ],
   "source": [
    "collect_ls_experimental(56, ls=\"rc\", zoom=True)"
   ]
  },
  {
   "cell_type": "code",
   "execution_count": 81,
   "metadata": {},
   "outputs": [
    {
     "data": {
      "text/plain": [
       "{'D': (1.180705e-10, 6.8314863e-12),\n",
       " 'c0': (0.7917315, 0.022364505),\n",
       " 'alpha': (0.78694963, 0.007819832)}"
      ]
     },
     "execution_count": 81,
     "metadata": {},
     "output_type": "execute_result"
    }
   ],
   "source": [
    "experimental_test(model, wt=32, zoom=True)"
   ]
  },
  {
   "cell_type": "code",
   "execution_count": 86,
   "metadata": {},
   "outputs": [
    {
     "data": {
      "text/plain": [
       "{'D': (1.2023031e-11, 2.5361985e-13),\n",
       " 'c0': (0.8102646, 0.008554902),\n",
       " 'alpha': (0.7020701, 0.005180451)}"
      ]
     },
     "execution_count": 86,
     "metadata": {},
     "output_type": "execute_result"
    }
   ],
   "source": [
    "experimental_test(model, wt=56, zoom=True)"
   ]
  },
  {
   "cell_type": "code",
   "execution_count": 30,
   "metadata": {},
   "outputs": [
    {
     "data": {
      "text/plain": [
       "{'D': (1.2640786e-10, 4.6415224e-12),\n",
       " 'c0': (0.8000804, 0.016691407),\n",
       " 'alpha': (0.7749325, 0.007886866)}"
      ]
     },
     "execution_count": 30,
     "metadata": {},
     "output_type": "execute_result"
    }
   ],
   "source": [
    "experimental_test(model_rc, wt=32, mode=\"rc\", zoom=True)"
   ]
  },
  {
   "cell_type": "code",
   "execution_count": 31,
   "metadata": {},
   "outputs": [
    {
     "data": {
      "text/plain": [
       "{'D': (1.2870284e-11, 4.706351e-13),\n",
       " 'c0': (0.81778944, 0.010717799),\n",
       " 'alpha': (0.7315166, 0.0015421845)}"
      ]
     },
     "execution_count": 31,
     "metadata": {},
     "output_type": "execute_result"
    }
   ],
   "source": [
    "experimental_test(model_rc, wt=56, mode=\"rc\", zoom=True)"
   ]
  },
  {
   "cell_type": "code",
   "execution_count": 22,
   "metadata": {},
   "outputs": [],
   "source": [
    "loss = [0.0105, 0.0098, 0.0057, 0.0055, 0.0027, 0.0028, 0.0029, 0.0031, 0.0041, 0.0041, 0.0032, 0.0025, 0.0028, 0.0034]\n"
   ]
  },
  {
   "cell_type": "code",
   "execution_count": null,
   "metadata": {},
   "outputs": [],
   "source": []
  },
  {
   "cell_type": "code",
   "execution_count": 10,
   "metadata": {},
   "outputs": [],
   "source": [
    "with open('index' + '.pkl', 'rb') as f:\n",
    "    index = pickle.load(f)"
   ]
  },
  {
   "cell_type": "code",
   "execution_count": 11,
   "metadata": {},
   "outputs": [
    {
     "name": "stdout",
     "output_type": "stream",
     "text": [
      "processed: 1000: 100%|██████████| 1000/1000 [12:00:33<00:00, 43.23s/it]\n"
     ]
    }
   ],
   "source": [
    "df = comparison_results(model, index)"
   ]
  },
  {
   "cell_type": "code",
   "execution_count": 12,
   "metadata": {},
   "outputs": [],
   "source": [
    "with open('comparison_results_new' + '.pkl', 'wb') as f:\n",
    "    pickle.dump(df, f, pickle.HIGHEST_PROTOCOL)"
   ]
  },
  {
   "cell_type": "code",
   "execution_count": 13,
   "metadata": {},
   "outputs": [
    {
     "name": "stdout",
     "output_type": "stream",
     "text": [
      "processed: 1000: 100%|██████████| 1000/1000 [00:47<00:00, 21.21it/s]\n"
     ]
    }
   ],
   "source": [
    "df_rc = comparison_results(model_rc, index, mode=\"rc\")"
   ]
  },
  {
   "cell_type": "code",
   "execution_count": 41,
   "metadata": {},
   "outputs": [],
   "source": [
    "with open('comparison_results_rc' + '.pkl', 'wb') as f:\n",
    "    pickle.dump(df_rc, f, pickle.HIGHEST_PROTOCOL)"
   ]
  },
  {
   "cell_type": "code",
   "execution_count": 19,
   "metadata": {},
   "outputs": [
    {
     "name": "stdout",
     "output_type": "stream",
     "text": [
      "(16, 110)\n"
     ]
    }
   ],
   "source": [
    "X_path = \"/home/sms/vws/data/test/data/rc_32.64.bin\"\n",
    "X = np.fromfile(X_path, dtype=np.float32)\n",
    "X = np.reshape(X, (1, 110))\n",
    "X = np.kron(np.ones((16,1)), X)\n",
    "print(X.shape)"
   ]
  },
  {
   "cell_type": "code",
   "execution_count": 26,
   "metadata": {},
   "outputs": [
    {
     "name": "stdout",
     "output_type": "stream",
     "text": [
      "935 µs ± 80.7 µs per loop (mean ± std. dev. of 7 runs, 500 loops each)\n"
     ]
    }
   ],
   "source": [
    "%%timeit -n 500\n",
    "model_rc(torch.from_numpy(X).unsqueeze(1).float())"
   ]
  },
  {
   "cell_type": "code",
   "execution_count": 15,
   "metadata": {},
   "outputs": [],
   "source": [
    "with open('comparison_results_new' + '.pkl', 'rb') as f:\n",
    "    df = pickle.load(f)\n",
    "\n",
    "mse = pd.DataFrame(columns=df.columns)\n",
    "avg = pd.DataFrame(columns=df.columns)\n",
    "std = pd.DataFrame(columns=df.columns)\n",
    "\n",
    "\n",
    "for D in set(df[\"D\"]):\n",
    "    for alpha in set(df[\"alpha\"]):\n",
    "        for a in set(df[\"a\"]):\n",
    "            data = df[(df[\"D\"] == D) & (df[\"alpha\"] == alpha) & (df[\"a\"] == a)]\n",
    "            \n",
    "            mse = mse.append(MSE_DataFrame(data), ignore_index=True, sort=False)\n",
    "            avg = avg.append(avg_DataFrame(data), ignore_index=True, sort=False)\n",
    "            std = std.append(std_DataFrame(data), ignore_index=True, sort=False)\n",
    "\n",
    "                \n",
    "with open('mse_new' + '.pkl', 'wb') as f:\n",
    "    pickle.dump(mse, f, pickle.HIGHEST_PROTOCOL)\n",
    "    \n",
    "with open('avg_new' + '.pkl', 'wb') as f:\n",
    "    pickle.dump(avg, f, pickle.HIGHEST_PROTOCOL)\n",
    "    \n",
    "with open('std_new' + '.pkl', 'wb') as f:\n",
    "    pickle.dump(std, f, pickle.HIGHEST_PROTOCOL)           "
   ]
  },
  {
   "cell_type": "code",
   "execution_count": 16,
   "metadata": {},
   "outputs": [],
   "source": [
    "with open('comparison_results_rc' + '.pkl', 'rb') as f:\n",
    "    df_rc = pickle.load(f)\n",
    "\n",
    "mse_rc = pd.DataFrame(columns=df_rc.columns)\n",
    "avg_rc = pd.DataFrame(columns=df_rc.columns)\n",
    "std_rc = pd.DataFrame(columns=df_rc.columns)\n",
    "\n",
    "\n",
    "for D in set(df_rc[\"D\"]):\n",
    "    for alpha in set(df_rc[\"alpha\"]):\n",
    "        for a in set(df_rc[\"a\"]):\n",
    "            data = df_rc[(df_rc[\"D\"] == D) & (df_rc[\"alpha\"] == alpha) & (df_rc[\"a\"] == a)]\n",
    "            \n",
    "            mse_rc = mse_rc.append(MSE_DataFrame(data), ignore_index=True, sort=False)\n",
    "            avg_rc = avg_rc.append(avg_DataFrame(data), ignore_index=True, sort=False)\n",
    "            std_rc = std_rc.append(std_DataFrame(data), ignore_index=True, sort=False)\n",
    "\n",
    "                \n",
    "with open('mse_rc' + '.pkl', 'wb') as f:\n",
    "    pickle.dump(mse_rc, f, pickle.HIGHEST_PROTOCOL)\n",
    "    \n",
    "with open('avg_rc' + '.pkl', 'wb') as f:\n",
    "    pickle.dump(avg_rc, f, pickle.HIGHEST_PROTOCOL)\n",
    "    \n",
    "with open('std_rc' + '.pkl', 'wb') as f:\n",
    "    pickle.dump(std_rc, f, pickle.HIGHEST_PROTOCOL)   "
   ]
  },
  {
   "cell_type": "code",
   "execution_count": 17,
   "metadata": {},
   "outputs": [],
   "source": [
    "# Get the correct columns\n",
    "mse_rc = mse_rc[[\"D_ls_nn\", \"c0_ls_nn\", \"alpha_ls_nn\"]].rename(columns={\"D_ls_nn\": \"D_nn_rc\", \"c0_ls_nn\": \"c0_nn_rc\", \"alpha_ls_nn\": \"alpha_nn_rc\"})\n",
    "mse_px = mse.rename(columns={\"D_ls_nn\": \"D_nn_px\", \"c0_ls_nn\": \"c0_nn_px\", \"alpha_ls_nn\": \"alpha_nn_px\"})\n",
    "\n",
    "mse_tot = pd.concat([mse_rc, mse_px], axis=1)\n",
    "mse_tot = mse_tot[[\"D\", \"c0\", \"alpha\", \"a\", \"D_ls_px\", \"c0_ls_px\", \"alpha_ls_px\", \"D_ls_rc\", \"c0_ls_rc\", \"alpha_ls_rc\", \"D_nn_px\", \"c0_nn_px\", \"alpha_nn_px\", \"D_nn_rc\", \"c0_nn_rc\", \"alpha_nn_rc\"]]"
   ]
  },
  {
   "cell_type": "code",
   "execution_count": 18,
   "metadata": {},
   "outputs": [],
   "source": [
    "# Get the correct columns\n",
    "std_rc = std_rc[[\"D_ls_nn\", \"c0_ls_nn\", \"alpha_ls_nn\"]].rename(columns={\"D_ls_nn\": \"D_nn_rc\", \"c0_ls_nn\": \"c0_nn_rc\", \"alpha_ls_nn\": \"alpha_nn_rc\"})\n",
    "std_px = std.rename(columns={\"D_ls_nn\": \"D_nn_px\", \"c0_ls_nn\": \"c0_nn_px\", \"alpha_ls_nn\": \"alpha_nn_px\"})\n",
    "\n",
    "std_tot = pd.concat([std_rc, std_px], axis=1)\n",
    "std_tot = std_tot[[\"D\", \"c0\", \"alpha\", \"a\", \"D_ls_px\", \"c0_ls_px\", \"alpha_ls_px\", \"D_ls_rc\", \"c0_ls_rc\", \"alpha_ls_rc\", \"D_nn_px\", \"c0_nn_px\", \"alpha_nn_px\", \"D_nn_rc\", \"c0_nn_rc\", \"alpha_nn_rc\"]]"
   ]
  },
  {
   "cell_type": "code",
   "execution_count": 19,
   "metadata": {},
   "outputs": [],
   "source": [
    "# Get the correct columns\n",
    "avg_rc = avg_rc[[\"D_ls_nn\", \"c0_ls_nn\", \"alpha_ls_nn\"]].rename(columns={\"D_ls_nn\": \"D_nn_rc\", \"c0_ls_nn\": \"c0_nn_rc\", \"alpha_ls_nn\": \"alpha_nn_rc\"})\n",
    "avg_px = avg.rename(columns={\"D_ls_nn\": \"D_nn_px\", \"c0_ls_nn\": \"c0_nn_px\", \"alpha_ls_nn\": \"alpha_nn_px\"})\n",
    "\n",
    "avg_tot = pd.concat([avg_rc, avg_px], axis=1)\n",
    "avg_tot = avg_tot[[\"D\", \"c0\", \"alpha\", \"a\", \"D_ls_px\", \"c0_ls_px\", \"alpha_ls_px\", \"D_ls_rc\", \"c0_ls_rc\", \"alpha_ls_rc\", \"D_nn_px\", \"c0_nn_px\", \"alpha_nn_px\", \"D_nn_rc\", \"c0_nn_rc\", \"alpha_nn_rc\"]]"
   ]
  },
  {
   "cell_type": "code",
   "execution_count": 20,
   "metadata": {},
   "outputs": [],
   "source": [
    "data = df[(df[\"D\"] == 1.2386014) & (df[\"alpha\"] == 0.7) & (df[\"a\"] == 0.05)]\n",
    "#data.to_csv(\"characteristic.csv\", index=False)"
   ]
  },
  {
   "cell_type": "code",
   "execution_count": 23,
   "metadata": {},
   "outputs": [
    {
     "data": {
      "image/png": "[encoded data removed]",
      "text/plain": [
       "<Figure size 432x288 with 4 Axes>"
      ]
     },
     "metadata": {
      "needs_background": "light"
     },
     "output_type": "display_data"
    }
   ],
   "source": [
    "alpha = 0.5\n",
    "data = mse_tot[(mse_tot[\"alpha\"] == alpha)]\n",
    "\n",
    "f, (ax1, ax2, ax3, ax4) = plt.subplots(1, 4, sharey=True)\n",
    "plt.set_cmap(\"gray\")\n",
    "ax1.set_title(\"LS-PX\")\n",
    "ax2.set_title(\"LS-RC\")\n",
    "ax3.set_title(\"NN-PX\")\n",
    "ax4.set_title(\"NN-RC\")\n",
    "\n",
    "i = 1\n",
    "for D in set(data[\"D\"]):\n",
    "    \n",
    "    cond = data[(data[\"D\"] ==  D) & (data[\"alpha\"]==alpha)]\n",
    "    \n",
    "    \n",
    "    cond          = cond.sort_values(by=[\"a\"])\n",
    "    cond[\"D\"]     = np.around(cond[\"D\"], 2)\n",
    "    cond[\"a\"]     = np.around(cond[\"a\"], 3)\n",
    "    cond[\"alpha\"] = np.around(cond[\"alpha\"], 1)\n",
    "\n",
    "    x = cond[\"a\"]\n",
    "    \n",
    "    ax1.semilogy(x, cond[\"D_ls_px\"], '-o', c='k')\n",
    "    ax1.grid()\n",
    "    ax1.set_xlabel(\"a\")\n",
    "    \n",
    "    ax2.semilogy(x, cond[\"D_ls_rc\"], '-o', c='k')\n",
    "    ax2.grid()\n",
    "    ax2.set_xlabel(\"a\")\n",
    "    \n",
    "    ax3.semilogy(x, cond[\"D_nn_px\"], '-o', c='k')\n",
    "    ax3.grid()\n",
    "    ax3.set_xlabel(\"a\")\n",
    "    \n",
    "    ax4.semilogy(x, cond[\"D_nn_rc\"], '-o', c='k')\n",
    "    ax4.grid()\n",
    "    ax4.set_xlabel(\"a\")\n",
    "    \n",
    "    cond.to_csv(\"D_data_\"+\"_\"+str(alpha)+\"_\"+str(i)+\".csv\", index=False)\n",
    "    \n",
    "    i +=1\n",
    "    \n",
    "ax1.set_ylabel(\"log mse\")    \n",
    "plt.show()"
   ]
  },
  {
   "cell_type": "code",
   "execution_count": 91,
   "metadata": {},
   "outputs": [
    {
     "data": {
      "image/png": "[encoded data removed]",
      "text/plain": [
       "<Figure size 720x360 with 4 Axes>"
      ]
     },
     "metadata": {
      "needs_background": "light"
     },
     "output_type": "display_data"
    }
   ],
   "source": [
    "alpha = 0.9\n",
    "data = std_tot[(std_tot[\"alpha\"] == alpha)]\n",
    "\n",
    "f, (ax1, ax2, ax3, ax4) = plt.subplots(1, 4, sharey=True)\n",
    "plt.set_cmap(\"gray\")\n",
    "ax1.set_title(\"LS-PX\")\n",
    "ax2.set_title(\"LS-RC\")\n",
    "ax3.set_title(\"NN-PX\")\n",
    "ax4.set_title(\"NN-RC\")\n",
    "\n",
    "i = 1\n",
    "for D in set(data[\"D\"]):\n",
    "    \n",
    "    cond = data[(data[\"D\"] ==  D) & (data[\"alpha\"]==alpha)]\n",
    "    \n",
    "    \n",
    "    cond          = cond.sort_values(by=[\"a\"])\n",
    "    cond[\"D\"]     = np.around(cond[\"D\"], 2)\n",
    "    cond[\"a\"]     = np.around(cond[\"a\"], 3)\n",
    "    cond[\"alpha\"] = np.around(cond[\"alpha\"], 1)\n",
    "\n",
    "    x = cond[\"a\"]\n",
    "    \n",
    "    ax1.semilogy(x, cond[\"D_ls_px\"], '-o', c='k')\n",
    "    ax1.grid()\n",
    "    ax1.set_xlabel(\"a\")\n",
    "    \n",
    "    ax2.semilogy(x, cond[\"D_ls_rc\"], '-o', c='k')\n",
    "    ax2.grid()\n",
    "    ax2.set_xlabel(\"a\")\n",
    "    \n",
    "    ax3.semilogy(x, cond[\"D_nn_px\"], '-o', c='k')\n",
    "    ax3.grid()\n",
    "    ax3.set_xlabel(\"a\")\n",
    "    \n",
    "    ax4.semilogy(x, cond[\"D_nn_rc\"], '-o', c='k')\n",
    "    ax4.grid()\n",
    "    ax4.set_xlabel(\"a\")\n",
    "    \n",
    "    cond.to_csv(\"std_D_data_\"+\"_\"+str(alpha)+\"_\"+str(i)+\".csv\", index=False)\n",
    "    \n",
    "    i +=1\n",
    "    \n",
    "ax1.set_ylabel(\"std\")    \n",
    "plt.show()"
   ]
  },
  {
   "cell_type": "code",
   "execution_count": 28,
   "metadata": {},
   "outputs": [
    {
     "data": {
      "image/png": "[encoded data removed]",
      "text/plain": [
       "<Figure size 864x360 with 4 Axes>"
      ]
     },
     "metadata": {
      "needs_background": "light"
     },
     "output_type": "display_data"
    }
   ],
   "source": [
    "alpha = 0.9\n",
    "data = std_tot[(std_tot[\"alpha\"] == alpha)]\n",
    "\n",
    "f, (ax1, ax2, ax3, ax4) = plt.subplots(1, 4, sharey=True)\n",
    "plt.set_cmap(\"gray\")\n",
    "ax1.set_title(\"LS-PX\")\n",
    "ax2.set_title(\"LS-RC\")\n",
    "ax3.set_title(\"NN-PX\")\n",
    "ax4.set_title(\"NN-RC\")\n",
    "\n",
    "i = 1\n",
    "for D in set(data[\"D\"]):\n",
    "    \n",
    "    cond = data[(data[\"D\"] ==  D) & (data[\"alpha\"]==alpha)]\n",
    "    \n",
    "    \n",
    "    cond          = cond.sort_values(by=[\"a\"])\n",
    "    cond[\"D\"]     = np.around(cond[\"D\"], 2)\n",
    "    cond[\"a\"]     = np.around(cond[\"a\"], 3)\n",
    "    cond[\"alpha\"] = np.around(cond[\"alpha\"], 1)\n",
    "\n",
    "    x = cond[\"a\"]\n",
    "    \n",
    "    ax1.semilogy(x, cond[\"D_ls_px\"], '-o', c='k')\n",
    "    ax1.grid()\n",
    "    ax1.set_xlabel(\"a\")\n",
    "    \n",
    "    ax2.semilogy(x, cond[\"D_ls_rc\"], '-o', c='k')\n",
    "    ax2.grid()\n",
    "    ax2.set_xlabel(\"a\")\n",
    "    \n",
    "    ax3.semilogy(x, cond[\"D_nn_px\"], '-o', c='k')\n",
    "    ax3.grid()\n",
    "    ax3.set_xlabel(\"a\")\n",
    "    \n",
    "    ax4.semilogy(x, cond[\"D_nn_rc\"], '-o', c='k')\n",
    "    ax4.grid()\n",
    "    ax4.set_xlabel(\"a\")\n",
    "    \n",
    "    cond.to_csv(\"std_D_data_\"+\"_\"+str(alpha)+\"_\"+str(i)+\".csv\", index=False)\n",
    "    \n",
    "    i +=1\n",
    "    \n",
    "ax1.set_ylabel(\"std\")    \n",
    "plt.show()"
   ]
  },
  {
   "cell_type": "code",
   "execution_count": 73,
   "metadata": {},
   "outputs": [
    {
     "data": {
      "image/png": "[encoded data removed]",
      "text/plain": [
       "<Figure size 720x360 with 4 Axes>"
      ]
     },
     "metadata": {
      "needs_background": "light"
     },
     "output_type": "display_data"
    }
   ],
   "source": [
    "D = 2.9375715\n",
    "data = mse_tot[(mse_tot[\"D\"] == D)]\n",
    "\n",
    "f, (ax1, ax2, ax3, ax4) = plt.subplots(1, 4, sharey=True)\n",
    "plt.set_cmap(\"gray\")\n",
    "ax1.set_title(\"LS-PX\")\n",
    "ax2.set_title(\"LS-RC\")\n",
    "ax3.set_title(\"NN-PX\")\n",
    "ax4.set_title(\"NN-RC\")\n",
    "\n",
    "i = 1\n",
    "for alpha in set(data[\"alpha\"]):\n",
    "    \n",
    "    cond = data[(data[\"D\"] ==  D) & (data[\"alpha\"]==alpha)]\n",
    "    \n",
    "    \n",
    "    cond          = cond.sort_values(by=[\"a\"])\n",
    "    cond[\"D\"]     = np.around(cond[\"D\"], 2)\n",
    "    cond[\"a\"]     = np.around(cond[\"a\"], 3)\n",
    "    cond[\"alpha\"] = np.around(cond[\"alpha\"], 1)\n",
    "\n",
    "    x = cond[\"a\"]\n",
    "    \n",
    "    ax1.semilogy(x, cond[\"alpha_ls_px\"], '-o', c='k')\n",
    "    ax1.grid()\n",
    "    ax1.set_xlabel(\"a\")\n",
    "    \n",
    "    ax2.semilogy(x, cond[\"alpha_ls_rc\"], '-o', c='k')\n",
    "    ax2.grid()\n",
    "    ax2.set_xlabel(\"a\")\n",
    "    \n",
    "    ax3.semilogy(x, cond[\"alpha_nn_px\"], '-o', c='k')\n",
    "    ax3.grid()\n",
    "    ax3.set_xlabel(\"a\")\n",
    "    \n",
    "    ax4.semilogy(x, cond[\"alpha_nn_rc\"], '-o', c='k')\n",
    "    ax4.grid()\n",
    "    ax4.set_xlabel(\"a\")\n",
    "    \n",
    "    cond.to_csv(\"alpha_data_\"+\"_\"+str(2.94)+\"_\"+str(i)+\".csv\", index=False)\n",
    "    \n",
    "    i +=1\n",
    "    \n",
    "ax1.set_ylabel(\"log mse\")    \n",
    "plt.show()"
   ]
  },
  {
   "cell_type": "code",
   "execution_count": null,
   "metadata": {},
   "outputs": [],
   "source": []
  },
  {
   "cell_type": "code",
   "execution_count": 36,
   "metadata": {},
   "outputs": [],
   "source": [
    "r = np.random.randint(0, 100)\n",
    "torch.manual_seed(r)\n",
    "test_set = TemporalDataset(prefix = \"rc\", directory=\"/home/sms/vws/data/test/\")\n",
    "test_loader = torch.utils.data.DataLoader(test_set, batch_size=16, shuffle=True, num_workers=16)\n",
    "\n",
    "df = test(model_rc.cpu(), test_loader)"
   ]
  },
  {
   "cell_type": "code",
   "execution_count": 95,
   "metadata": {},
   "outputs": [],
   "source": [
    "D_df = pd.concat([mse_tot[[\"D\", \"c0\", \"alpha\", \"a\"]], \n",
    "                  avg_tot[[\"D_ls_px\", \"D_ls_rc\", \"D_nn_px\", \"D_nn_rc\"]].rename(columns={\"D_ls_px\": \"avg_ls_px\", \"D_ls_rc\": \"avg_ls_rc\", \"D_nn_px\": \"avg_nn_px\", \"D_nn_rc\": \"avg_nn_rc\"}),\n",
    "                  std_tot[[\"D_ls_px\", \"D_ls_rc\", \"D_nn_px\", \"D_nn_rc\"]].rename(columns={\"D_ls_px\": \"std_ls_px\", \"D_ls_rc\": \"std_ls_rc\", \"D_nn_px\": \"std_nn_px\", \"D_nn_rc\": \"std_nn_rc\"}),\n",
    "                  mse_tot[[\"D_ls_px\", \"D_ls_rc\", \"D_nn_px\", \"D_nn_rc\"]].rename(columns={\"D_ls_px\": \"mse_ls_px\", \"D_ls_rc\": \"mse_ls_rc\", \"D_nn_px\": \"mse_nn_px\", \"D_nn_rc\": \"mse_nn_rc\"}),\n",
    "                 ], axis=1)\n"
   ]
  },
  {
   "cell_type": "code",
   "execution_count": 119,
   "metadata": {},
   "outputs": [],
   "source": [
    "test_set = SpatiotemporalDataset(\"/home/sms/vws/data/test/new\")\n",
    "test_loader = torch.utils.data.DataLoader(test_set, batch_size=32, shuffle=True, num_workers=4)\n",
    "\n",
    "df_test = test(model.cpu(), test_loader)"
   ]
  },
  {
   "cell_type": "code",
   "execution_count": 120,
   "metadata": {},
   "outputs": [
    {
     "data": {
      "text/plain": [
       "loss         tensor(0.0004)\n",
       "D            tensor(0.0009)\n",
       "c0       tensor(3.6473e-05)\n",
       "alpha        tensor(0.0002)\n",
       "dtype: object"
      ]
     },
     "execution_count": 120,
     "metadata": {},
     "output_type": "execute_result"
    }
   ],
   "source": [
    "df_test.apply(np.sum)"
   ]
  },
  {
   "cell_type": "code",
   "execution_count": 127,
   "metadata": {},
   "outputs": [],
   "source": [
    "test_set = TemporalDataset(directory=\"/home/sms/vws/data/test/new\", prefix=\"rc\")\n",
    "test_loader = torch.utils.data.DataLoader(test_set, batch_size=32, shuffle=True, num_workers=4)\n",
    "\n",
    "df_test = test(model_rc.cpu(), test_loader)"
   ]
  },
  {
   "cell_type": "code",
   "execution_count": 128,
   "metadata": {},
   "outputs": [
    {
     "data": {
      "text/plain": [
       "loss         tensor(0.0074)\n",
       "D            tensor(0.0213)\n",
       "c0       tensor(8.9017e-06)\n",
       "alpha        tensor(0.0009)\n",
       "dtype: object"
      ]
     },
     "execution_count": 128,
     "metadata": {},
     "output_type": "execute_result"
    }
   ],
   "source": [
    "df_test.apply(np.sum)"
   ]
  },
  {
   "cell_type": "code",
   "execution_count": null,
   "metadata": {},
   "outputs": [],
   "source": []
  }
 ],
 "metadata": {
  "kernelspec": {
   "display_name": "Python 3",
   "language": "python",
   "name": "python3"
  },
  "language_info": {
   "codemirror_mode": {
    "name": "ipython",
    "version": 3
   },
   "file_extension": ".py",
   "mimetype": "text/x-python",
   "name": "python",
   "nbconvert_exporter": "python",
   "pygments_lexer": "ipython3",
   "version": "3.7.4"
  }
 },
 "nbformat": 4,
 "nbformat_minor": 2
}
