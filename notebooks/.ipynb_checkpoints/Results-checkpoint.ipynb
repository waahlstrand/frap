{
 "cells": [
  {
   "cell_type": "code",
   "execution_count": 1,
   "metadata": {},
   "outputs": [],
   "source": [
    "%matplotlib inline\n",
    "\n",
    "import sys\n",
    "import os\n",
    "import re\n",
    "sys.path.append(\"../\") # go to parent dir\n",
    "\n",
    "\n",
    "import torch\n",
    "import torch.nn as nn\n",
    "import matplotlib.pyplot as plt\n",
    "\n",
    "#plt.rcParams[\"figure.figsize\"] = (60,10)\n",
    "\n",
    "import numpy as np\n",
    "import h5py\n",
    "import hdf5storage\n",
    "\n",
    "from ipywidgets import IntProgress\n",
    "from IPython.display import display\n",
    "import time\n"
   ]
  },
  {
   "cell_type": "code",
   "execution_count": 2,
   "metadata": {},
   "outputs": [],
   "source": [
    "def MSE(y, y_hat):\n",
    "    return np.mean(np.power((y-y_hat), 2), axis=1)\n",
    "\n",
    "def RMAE(y, y_hat):\n",
    "    return np.mean(np.abs((y-y_hat)/y), axis=1)\n",
    "\n",
    "def RMSE(y, y_hat):\n",
    "    return np.sqrt(MSE(y, y_hat))\n",
    "\n",
    "def MSE_tot(y, y_hat):\n",
    "    return np.mean(np.power((y-y_hat), 2))\n",
    "\n",
    "def visualize_and_compare(y, y_hat):\n",
    "    \n",
    "    fig, axs   = plt.subplots(1, 3, figsize=(15, 5))\n",
    "    props1 = dict(boxstyle='round', facecolor='red', alpha=0.1)\n",
    "    props2 = dict(boxstyle='round', facecolor='wheat', alpha=0.5)\n",
    "\n",
    "    \n",
    "    param_name = [r\"$D$\", r\"$c_0$\", r\"$\\alpha$\"]\n",
    "    mse        = MSE(y, y_hat)\n",
    "    rmae       = RMAE(y, y_hat)\n",
    "    \n",
    "    for param in range(3):\n",
    "        \n",
    "        interval = [np.linspace(1,3), np.linspace(0.5,1), np.linspace(0.5,0.9)]\n",
    "        \n",
    "        axs[param].scatter(y[param, :], y_hat[param, :])\n",
    "        axs[param].plot(interval[param], interval[param], 'r')\n",
    "        axs[param].set_xlabel(\"y\")\n",
    "        axs[param].set_ylabel(\"y_hat\")\n",
    "        #axs[param].legend([])\n",
    "        #axs[param].set_title(param_name[param])\n",
    "        axs[param].text(0.05, 0.95, param_name[param], transform=axs[param].transAxes, fontsize=14,\n",
    "        verticalalignment='top', bbox=props1)\n",
    "        axs[param].text(0.05, 0.85, \"MSE = %4.e\" % (mse[param]), transform=axs[param].transAxes, fontsize=14,\n",
    "        verticalalignment='top', bbox=props2)\n",
    "        axs[param].text(0.05, 0.75, \"RMAE = %4.e\" % (rmae[param]), transform=axs[param].transAxes, fontsize=14,\n",
    "        verticalalignment='top', bbox=props2)\n",
    "        \n",
    "        #print(\"MSE:\", MSE(y, y_hat))\n",
    "        \n",
    "    #fig.suptitle('True vs Neural network')\n",
    "    plt.show()\n",
    "    "
   ]
  },
  {
   "cell_type": "code",
   "execution_count": 9,
   "metadata": {},
   "outputs": [],
   "source": [
    "LSE_dir = \"/home/sms/vws/data/test/frap_ann_test_data\""
   ]
  },
  {
   "cell_type": "code",
   "execution_count": 4,
   "metadata": {},
   "outputs": [
    {
     "name": "stderr",
     "output_type": "stream",
     "text": [
      "/home/sms/.conda/envs/torch/lib/python3.7/site-packages/torch/serialization.py:453: SourceChangeWarning: source code of class 'models.spatiotemporal.Tratt' has changed. you can retrieve the original source code by accessing the object's source attribute or set `torch.nn.Module.dump_patches = True` and use the patch tool to revert the changes.\n",
      "  warnings.warn(msg, SourceChangeWarning)\n"
     ]
    },
    {
     "data": {
      "text/plain": [
       "Tratt(\n",
       "  (body): Sequential(\n",
       "    (0): Conv2d(110, 110, kernel_size=(4, 4), stride=(1, 1))\n",
       "    (1): BatchNorm2d(110, eps=1e-05, momentum=0.1, affine=True, track_running_stats=True)\n",
       "    (2): ReLU()\n",
       "    (3): MaxPool2d(kernel_size=3, stride=3, padding=0, dilation=1, ceil_mode=False)\n",
       "    (4): Conv2d(110, 110, kernel_size=(3, 3), stride=(1, 1))\n",
       "    (5): BatchNorm2d(110, eps=1e-05, momentum=0.1, affine=True, track_running_stats=True)\n",
       "    (6): ReLU()\n",
       "    (7): MaxPool2d(kernel_size=3, stride=3, padding=0, dilation=1, ceil_mode=False)\n",
       "    (8): Conv2d(110, 110, kernel_size=(3, 3), stride=(1, 1))\n",
       "    (9): BatchNorm2d(110, eps=1e-05, momentum=0.1, affine=True, track_running_stats=True)\n",
       "    (10): ReLU()\n",
       "    (11): MaxPool2d(kernel_size=3, stride=3, padding=0, dilation=1, ceil_mode=False)\n",
       "    (12): Conv2d(110, 110, kernel_size=(3, 3), stride=(1, 1))\n",
       "    (13): BatchNorm2d(110, eps=1e-05, momentum=0.1, affine=True, track_running_stats=True)\n",
       "    (14): ReLU()\n",
       "    (15): MaxPool2d(kernel_size=2, stride=2, padding=0, dilation=1, ceil_mode=False)\n",
       "    (16): Conv2d(110, 110, kernel_size=(2, 2), stride=(1, 1))\n",
       "    (17): BatchNorm2d(110, eps=1e-05, momentum=0.1, affine=True, track_running_stats=True)\n",
       "    (18): ReLU()\n",
       "    (19): MaxPool2d(kernel_size=2, stride=2, padding=0, dilation=1, ceil_mode=False)\n",
       "  )\n",
       "  (neck): Sequential(\n",
       "    (0): Conv1d(1, 8, kernel_size=(3,), stride=(3,))\n",
       "    (1): BatchNorm1d(8, eps=1e-05, momentum=0.1, affine=True, track_running_stats=True)\n",
       "    (2): ReLU()\n",
       "    (3): MaxPool1d(kernel_size=2, stride=2, padding=0, dilation=1, ceil_mode=False)\n",
       "  )\n",
       "  (head): Sequential(\n",
       "    (0): Linear(in_features=144, out_features=512, bias=True)\n",
       "    (1): ReLU()\n",
       "    (2): Linear(in_features=512, out_features=128, bias=True)\n",
       "    (3): ReLU()\n",
       "    (4): Linear(in_features=128, out_features=3, bias=True)\n",
       "  )\n",
       ")"
      ]
     },
     "execution_count": 4,
     "metadata": {},
     "output_type": "execute_result"
    }
   ],
   "source": [
    "model = torch.load(\"/home/sms/vws/frappe/saved/tratt/test/20191024-1653.pt\").cuda()\n",
    "model.eval()"
   ]
  },
  {
   "cell_type": "code",
   "execution_count": 10,
   "metadata": {},
   "outputs": [],
   "source": [
    "path = os.path.join(LSE_dir, \"data_2088389000.mat\")"
   ]
  },
  {
   "cell_type": "code",
   "execution_count": 11,
   "metadata": {},
   "outputs": [],
   "source": [
    "data = hdf5storage.loadmat(path)"
   ]
  },
  {
   "cell_type": "code",
   "execution_count": 7,
   "metadata": {},
   "outputs": [
    {
     "data": {
      "text/plain": [
       "dict_keys(['__header__', '__version__', '__globals__', 'a', 't_exec', 'x_px', 'x_rc', 'y', 'y_hat_px', 'y_hat_rc'])"
      ]
     },
     "execution_count": 7,
     "metadata": {},
     "output_type": "execute_result"
    }
   ],
   "source": [
    "data.keys()"
   ]
  },
  {
   "cell_type": "code",
   "execution_count": 12,
   "metadata": {},
   "outputs": [],
   "source": [
    "X = data[\"x_px\"]\n",
    "x = data[\"x_rc\"]\n",
    "y = data[\"y\"]\n",
    "y_px = data[\"y_hat_px\"]\n",
    "y_rc = data[\"y_hat_rc\"]"
   ]
  },
  {
   "cell_type": "code",
   "execution_count": 13,
   "metadata": {},
   "outputs": [],
   "source": [
    "Xnew = np.transpose(X, (3, 2, 0, 1))\n",
    "\n",
    "Xnew = torch.Tensor(Xnew).cuda()\n",
    "\n",
    "#y_nn = model(Xnew).cpu().detach().numpy().T"
   ]
  },
  {
   "cell_type": "code",
   "execution_count": 32,
   "metadata": {},
   "outputs": [
    {
     "data": {
      "image/png": "[encoded data removed]",
      "text/plain": [
       "<Figure size 1080x360 with 3 Axes>"
      ]
     },
     "metadata": {
      "needs_background": "light"
     },
     "output_type": "display_data"
    }
   ],
   "source": [
    "visualize_and_compare(y, y_rc)"
   ]
  },
  {
   "cell_type": "code",
   "execution_count": 33,
   "metadata": {},
   "outputs": [
    {
     "data": {
      "image/png": "[encoded data removed]",
      "text/plain": [
       "<Figure size 1080x360 with 3 Axes>"
      ]
     },
     "metadata": {
      "needs_background": "light"
     },
     "output_type": "display_data"
    }
   ],
   "source": [
    "visualize_and_compare(y, y_px)"
   ]
  },
  {
   "cell_type": "code",
   "execution_count": 34,
   "metadata": {},
   "outputs": [
    {
     "data": {
      "image/png": "[encoded data removed]",
      "text/plain": [
       "<Figure size 1080x360 with 3 Axes>"
      ]
     },
     "metadata": {
      "needs_background": "light"
     },
     "output_type": "display_data"
    }
   ],
   "source": [
    "visualize_and_compare(y, y_nn)"
   ]
  },
  {
   "cell_type": "code",
   "execution_count": null,
   "metadata": {},
   "outputs": [],
   "source": [
    "x_files =  [f for f in os.listdir(os.path.join(\"/home/sms/vws/data/spatiotemporal\", \"data\")) if re.match(r'x+.*\\.bin', f)]\n",
    "y_files =  [\"y_\"+f.partition(\"_\")[2] for f in x_files]\n",
    "\n",
    "#X_path = os.path.join(self.directory, \"data\", x_files[idx])\n",
    "#\n",
    "#ys = [np.reshape(np.fromfile(os.path.join(\"/home/sms/vws/data/spatiotemporal\", \"data\", file), dtype=np.float32), (3)) for file in y_files]\n",
    "\n",
    "#ys = np.array(ys)"
   ]
  },
  {
   "cell_type": "code",
   "execution_count": null,
   "metadata": {},
   "outputs": [],
   "source": [
    "plt.hist(ys[:,0], 100)\n",
    "plt.show()"
   ]
  },
  {
   "cell_type": "code",
   "execution_count": 30,
   "metadata": {},
   "outputs": [
    {
     "data": {
      "text/plain": [
       "array([0.01384562, 0.001268  , 0.0142589 ])"
      ]
     },
     "execution_count": 30,
     "metadata": {},
     "output_type": "execute_result"
    }
   ],
   "source": [
    "RMAE(y,y_rc)"
   ]
  },
  {
   "cell_type": "code",
   "execution_count": 9,
   "metadata": {},
   "outputs": [
    {
     "data": {
      "text/plain": [
       "(3, 32)"
      ]
     },
     "execution_count": 9,
     "metadata": {},
     "output_type": "execute_result"
    }
   ],
   "source": [
    "y.shape"
   ]
  },
  {
   "cell_type": "code",
   "execution_count": null,
   "metadata": {},
   "outputs": [],
   "source": []
  },
  {
   "cell_type": "code",
   "execution_count": null,
   "metadata": {},
   "outputs": [],
   "source": []
  },
  {
   "cell_type": "code",
   "execution_count": null,
   "metadata": {},
   "outputs": [],
   "source": []
  },
  {
   "cell_type": "code",
   "execution_count": null,
   "metadata": {},
   "outputs": [],
   "source": []
  },
  {
   "cell_type": "code",
   "execution_count": 149,
   "metadata": {},
   "outputs": [],
   "source": [
    "data_dir = \"/media/sms/WD_PASSPORT/frap_ann/data_generation/data/data_1e-10_0.7_0.01/data_2116492003.mat\"\n",
    "y_dir = \"/media/sms/WD_PASSPORT/frap_ann/data_generation/data/data_1e-10_0.7_0.01/y_2116492003.bin\"\n",
    "X_dir = \"/media/sms/WD_PASSPORT/frap_ann/data_generation/data/data_1e-10_0.7_0.01/x_px_2116492003.bin\"\n",
    "a_dir = \"/media/sms/WD_PASSPORT/frap_ann/data_generation/data/data_1e-10_0.7_0.01/a_2116492003.bin\""
   ]
  },
  {
   "cell_type": "code",
   "execution_count": 106,
   "metadata": {},
   "outputs": [],
   "source": [
    "data = hdf5storage.loadmat(data_dir)"
   ]
  },
  {
   "cell_type": "code",
   "execution_count": 107,
   "metadata": {},
   "outputs": [
    {
     "data": {
      "text/plain": [
       "dict_keys(['__header__', '__version__', '__globals__', 'C0', 'D', 'a', 'alpha', 'random_seed', 'ss_px', 'ss_rc', 't_exec', 'y', 'y_hat_px', 'y_hat_rc'])"
      ]
     },
     "execution_count": 107,
     "metadata": {},
     "output_type": "execute_result"
    }
   ],
   "source": [
    "data.keys()"
   ]
  },
  {
   "cell_type": "code",
   "execution_count": 153,
   "metadata": {},
   "outputs": [],
   "source": [
    "ss_px = data[\"ss_px\"]\n",
    "ss_rc = data[\"ss_rc\"]\n",
    "y_data = data[\"y\"]\n",
    "y_px = data[\"y_hat_px\"]\n",
    "y_rc = data[\"y_hat_rc\"]"
   ]
  },
  {
   "cell_type": "code",
   "execution_count": 155,
   "metadata": {},
   "outputs": [
    {
     "data": {
      "text/plain": [
       "array([2.24987747, 0.75      , 0.7       ])"
      ]
     },
     "execution_count": 155,
     "metadata": {},
     "output_type": "execute_result"
    }
   ],
   "source": [
    "y_data.squeeze()"
   ]
  },
  {
   "cell_type": "code",
   "execution_count": 109,
   "metadata": {},
   "outputs": [],
   "source": [
    "X = np.fromfile(X_dir, dtype=np.float32)\n",
    "y = np.fromfile(y_dir, dtype=np.float32)\n",
    "\n",
    "#print(X.shape)\n",
    "X = np.reshape(X, (32, 1, 110, 256, 256), order=\"F\")\n",
    "y = np.reshape(y, (32, 3), order=\"F\")\n",
    "\n",
    "#Xnew = torch.Tensor(Xnew).cuda()"
   ]
  },
  {
   "cell_type": "code",
   "execution_count": 4,
   "metadata": {},
   "outputs": [
    {
     "data": {
      "text/plain": [
       "Tratt(\n",
       "  (body): Sequential(\n",
       "    (0): Conv2d(110, 110, kernel_size=(4, 4), stride=(1, 1))\n",
       "    (1): BatchNorm2d(110, eps=1e-05, momentum=0.1, affine=True, track_running_stats=True)\n",
       "    (2): ReLU()\n",
       "    (3): MaxPool2d(kernel_size=3, stride=3, padding=0, dilation=1, ceil_mode=False)\n",
       "    (4): Conv2d(110, 110, kernel_size=(3, 3), stride=(1, 1))\n",
       "    (5): BatchNorm2d(110, eps=1e-05, momentum=0.1, affine=True, track_running_stats=True)\n",
       "    (6): ReLU()\n",
       "    (7): MaxPool2d(kernel_size=3, stride=3, padding=0, dilation=1, ceil_mode=False)\n",
       "    (8): Conv2d(110, 110, kernel_size=(3, 3), stride=(1, 1))\n",
       "    (9): BatchNorm2d(110, eps=1e-05, momentum=0.1, affine=True, track_running_stats=True)\n",
       "    (10): ReLU()\n",
       "    (11): MaxPool2d(kernel_size=3, stride=3, padding=0, dilation=1, ceil_mode=False)\n",
       "    (12): Conv2d(110, 110, kernel_size=(3, 3), stride=(1, 1))\n",
       "    (13): BatchNorm2d(110, eps=1e-05, momentum=0.1, affine=True, track_running_stats=True)\n",
       "    (14): ReLU()\n",
       "    (15): MaxPool2d(kernel_size=2, stride=2, padding=0, dilation=1, ceil_mode=False)\n",
       "    (16): Conv2d(110, 110, kernel_size=(2, 2), stride=(1, 1))\n",
       "    (17): BatchNorm2d(110, eps=1e-05, momentum=0.1, affine=True, track_running_stats=True)\n",
       "    (18): ReLU()\n",
       "    (19): MaxPool2d(kernel_size=2, stride=2, padding=0, dilation=1, ceil_mode=False)\n",
       "  )\n",
       "  (neck): Sequential(\n",
       "    (0): Conv1d(1, 1, kernel_size=(3,), stride=(1,))\n",
       "    (1): BatchNorm1d(1, eps=1e-05, momentum=0.1, affine=True, track_running_stats=True)\n",
       "    (2): ReLU()\n",
       "    (3): MaxPool1d(kernel_size=2, stride=2, padding=0, dilation=1, ceil_mode=False)\n",
       "  )\n",
       "  (head): Sequential(\n",
       "    (0): Linear(in_features=54, out_features=1024, bias=True)\n",
       "    (1): ReLU()\n",
       "    (2): Linear(in_features=1024, out_features=512, bias=True)\n",
       "    (3): ReLU()\n",
       "    (4): Linear(in_features=512, out_features=3, bias=True)\n",
       "  )\n",
       ")"
      ]
     },
     "execution_count": 4,
     "metadata": {},
     "output_type": "execute_result"
    }
   ],
   "source": [
    "from models.spatiotemporal import Tratt\n",
    "\n",
    "model = Tratt(8)\n",
    "model.load_state_dict(torch.load(\"/home/sms/vws/frappe/saved/longtime/2k/States/states\"))\n",
    "model.eval()\n"
   ]
  },
  {
   "cell_type": "code",
   "execution_count": null,
   "metadata": {},
   "outputs": [],
   "source": [
    "y_nn = model(torch.from_numpy(X))\n",
    "y_nn = y_nn.detach().numpy()"
   ]
  },
  {
   "cell_type": "code",
   "execution_count": 112,
   "metadata": {},
   "outputs": [
    {
     "data": {
      "text/plain": [
       "array([2.2662253 , 0.7516835 , 0.72419035], dtype=float32)"
      ]
     },
     "execution_count": 112,
     "metadata": {},
     "output_type": "execute_result"
    }
   ],
   "source": [
    "np.mean(y_nn, axis=0)"
   ]
  },
  {
   "cell_type": "code",
   "execution_count": 113,
   "metadata": {},
   "outputs": [
    {
     "data": {
      "text/plain": [
       "array([0.0035051 , 0.00128376, 0.00186597], dtype=float32)"
      ]
     },
     "execution_count": 113,
     "metadata": {},
     "output_type": "execute_result"
    }
   ],
   "source": [
    "np.std(y_nn, axis=0)"
   ]
  },
  {
   "cell_type": "code",
   "execution_count": 156,
   "metadata": {},
   "outputs": [
    {
     "data": {
      "text/plain": [
       "array([0.0108084 , 0.00039994, 0.00564429])"
      ]
     },
     "execution_count": 156,
     "metadata": {},
     "output_type": "execute_result"
    }
   ],
   "source": [
    "np.std(y_rc, axis=1)"
   ]
  },
  {
   "cell_type": "code",
   "execution_count": 115,
   "metadata": {},
   "outputs": [
    {
     "data": {
      "text/plain": [
       "array([1.96747991e-03, 5.51518291e-05, 1.18279784e-03])"
      ]
     },
     "execution_count": 115,
     "metadata": {},
     "output_type": "execute_result"
    }
   ],
   "source": [
    "np.std(y_px.T, axis=0)"
   ]
  },
  {
   "cell_type": "code",
   "execution_count": 148,
   "metadata": {},
   "outputs": [
    {
     "name": "stdout",
     "output_type": "stream",
     "text": [
      "[2.7954104e-04 4.4822236e-06 5.8865896e-04]\n",
      "[3.89962552e-06 3.04196120e-09 1.61309748e-06]\n",
      "[1.19430011e-04 1.67878846e-07 3.25605907e-05]\n"
     ]
    }
   ],
   "source": [
    "print(MSE(y.T, y_nn.T))\n",
    "print(MSE(y.T, y_px))\n",
    "print(MSE(y.T, y_rc))"
   ]
  },
  {
   "cell_type": "code",
   "execution_count": 16,
   "metadata": {},
   "outputs": [],
   "source": [
    "def collect_results(model, data_dir):\n",
    "    \n",
    "    result_dirs = os.listdir(data_dir)\n",
    "\n",
    "    f = IntProgress(min=0, max=len(result_dirs)) # instantiate the bar\n",
    "    display(f) # display the bar\n",
    "\n",
    "    count = 0\n",
    "    results = []\n",
    "    \n",
    "    with tqdm(total=len(result_dirs), file=sys.stdout) as pbar:\n",
    "        for result_dir in result_dirs:\n",
    "\n",
    "            noise = [f for f in os.listdir(os.path.join(data_dir, result_dir)) if re.match(r'a_+.*\\.bin', f)]\n",
    "            Xs    = [f for f in os.listdir(os.path.join(data_dir, result_dir)) if re.match(r'x_px_+.*\\.bin', f)]\n",
    "            ys    = [\"y_\"+f.partition(\"px_\")[2] for f in Xs]\n",
    "            y_hat_pxs    = [\"y_hat_ls_px_\"+f.partition(\"px_\")[2] for f in Xs]\n",
    "            y_hat_rcs    = [\"y_hat_ls_rc_\"+f.partition(\"px_\")[2] for f in Xs]\n",
    "\n",
    "            datas = [f for f in os.listdir(os.path.join(data_dir, result_dir)) if re.match(r'.*\\.mat', f)]\n",
    "\n",
    "\n",
    "            n_files = len(Xs)\n",
    "\n",
    "            y_pxs = []\n",
    "            y_rcs = []\n",
    "            y_nns = []\n",
    "            y_all = []\n",
    "\n",
    "\n",
    "            # All data should have the same settings and targets\n",
    "\n",
    "            for idx in range(n_files):\n",
    "\n",
    "                # Extract the test data\n",
    "                a_dir    = os.path.join(data_dir, result_dir, noise[idx])\n",
    "                X_dir    = os.path.join(data_dir, result_dir, Xs[idx])\n",
    "                y_dir    = os.path.join(data_dir, result_dir, ys[idx])\n",
    "                y_px_dir = os.path.join(data_dir, result_dir, y_hat_pxs[idx])\n",
    "                y_rc_dir = os.path.join(data_dir, result_dir, y_hat_rcs[idx])\n",
    "\n",
    "                #mat_dir = os.path.join(data_dir, result_dir, datas[idx])\n",
    "\n",
    "                a = np.fromfile(a_dir, dtype=np.float32)\n",
    "                X = np.fromfile(X_dir, dtype=np.float32)\n",
    "                y = np.fromfile(y_dir, dtype=np.float32)\n",
    "                y_px = np.fromfile(y_px_dir, dtype=np.float32)\n",
    "                y_rc = np.fromfile(y_rc_dir, dtype=np.float32)\n",
    "\n",
    "                a = np.reshape(a, (32, 1), order=\"F\")\n",
    "                a = a.T\n",
    "\n",
    "                X = np.reshape(X, (32, 1, 110, 256, 256), order=\"F\")\n",
    "\n",
    "                y = np.reshape(y, (32, 3), order=\"F\")\n",
    "                y = y.T\n",
    "\n",
    "                y_px = np.reshape(y_px, (32, 3), order=\"F\")\n",
    "                y_px = y_px.T\n",
    "\n",
    "                y_rc = np.reshape(y_rc, (32, 3), order=\"F\")\n",
    "                y_rc = y_rc.T\n",
    "\n",
    "\n",
    "                # Calculate the results from neural network\n",
    "                y_nn = model(torch.from_numpy(X))\n",
    "                y_nn = y_nn.detach().numpy().T\n",
    "\n",
    "                y_pxs.append(y_px)\n",
    "                y_rcs.append(y_rc)\n",
    "                y_nns.append(y_nn)\n",
    "                y_all.append(y)\n",
    "\n",
    "                D     = y[0,0]\n",
    "                c     = y[1,0]\n",
    "                alpha = y[2,0]\n",
    "                a     = a[0,0]\n",
    "\n",
    "\n",
    "            y_pxs = np.concatenate(y_pxs, axis=1)\n",
    "            y_rcs = np.concatenate(y_rcs, axis=1)\n",
    "            y_nns = np.concatenate(y_nns, axis=1)\n",
    "            y_all = np.concatenate(y_all, axis=1)\n",
    "\n",
    "            mean_px = np.mean(y_pxs, axis=1)\n",
    "            mean_rc = np.mean(y_rcs, axis=1)\n",
    "            mean_nn = np.mean(y_nns, axis=1)\n",
    "            std_px  = np.std(y_pxs, axis=1)\n",
    "            std_rc  = np.std(y_rcs, axis=1)\n",
    "            std_nn  = np.std(y_nns, axis=1)\n",
    "            mse_px  = MSE(y_all, y_pxs)\n",
    "            mse_rc  = MSE(y_all, y_rcs)\n",
    "            mse_nn  = MSE(y_all, y_nns)\n",
    "\n",
    "\n",
    "\n",
    "\n",
    "            results_dict = {\"settings\": [D, c, alpha, a], \n",
    "                            \"px\": {\"mean\": mean_px, \"std\": std_px, \"mse\": mse_px}, \n",
    "                            \"rc\": {\"mean\": mean_rc, \"std\": std_rc, \"mse\": mse_rc}, \n",
    "                            \"nn\": {\"mean\": mean_nn, \"std\": std_nn, \"mse\": mse_nn}\n",
    "                           }\n",
    "\n",
    "            results.append(results_dict)\n",
    "\n",
    "            pbar.set_description('processed: %d' % (1 + count))\n",
    "            pbar.update(1)\n",
    "            count += 1\n",
    "\n",
    "\n",
    "        return results\n",
    "\n",
    "            \n",
    "            \n"
   ]
  },
  {
   "cell_type": "code",
   "execution_count": 6,
   "metadata": {},
   "outputs": [
    {
     "data": {
      "application/vnd.jupyter.widget-view+json": {
       "model_id": "87ca8017305346958e9aa60171892eb1",
       "version_major": 2,
       "version_minor": 0
      },
      "text/plain": [
       "IntProgress(value=0, max=125)"
      ]
     },
     "metadata": {},
     "output_type": "display_data"
    }
   ],
   "source": [
    "results = collect_results(model, \"/media/sms/WD_PASSPORT/frap_ann/data_generation/data\")"
   ]
  },
  {
   "cell_type": "code",
   "execution_count": 15,
   "metadata": {},
   "outputs": [
    {
     "data": {
      "text/plain": [
       "(3, 32)"
      ]
     },
     "execution_count": 15,
     "metadata": {},
     "output_type": "execute_result"
    }
   ],
   "source": [
    "from tqdm import tqdm\n",
    "\n",
    "\n",
    "    for i in values:\n",
    "        pbar.set_description('processed: %d' % (1 + i))\n",
    "        pbar.update(1)\n",
    "        sleep(1)\n"
   ]
  },
  {
   "cell_type": "code",
   "execution_count": 137,
   "metadata": {},
   "outputs": [],
   "source": [
    "ys =  [\"y_\"+f.partition(\"px_\")[2] for f in Xs]"
   ]
  },
  {
   "cell_type": "code",
   "execution_count": 151,
   "metadata": {},
   "outputs": [],
   "source": [
    "a = np.fromfile(a_dir, dtype=np.float32)\n",
    "\n",
    "a = np.reshape(a, (32, 1), order=\"F\")"
   ]
  },
  {
   "cell_type": "code",
   "execution_count": 152,
   "metadata": {},
   "outputs": [
    {
     "data": {
      "text/plain": [
       "array([[0.01],\n",
       "       [0.01],\n",
       "       [0.01],\n",
       "       [0.01],\n",
       "       [0.01],\n",
       "       [0.01],\n",
       "       [0.01],\n",
       "       [0.01],\n",
       "       [0.01],\n",
       "       [0.01],\n",
       "       [0.01],\n",
       "       [0.01],\n",
       "       [0.01],\n",
       "       [0.01],\n",
       "       [0.01],\n",
       "       [0.01],\n",
       "       [0.01],\n",
       "       [0.01],\n",
       "       [0.01],\n",
       "       [0.01],\n",
       "       [0.01],\n",
       "       [0.01],\n",
       "       [0.01],\n",
       "       [0.01],\n",
       "       [0.01],\n",
       "       [0.01],\n",
       "       [0.01],\n",
       "       [0.01],\n",
       "       [0.01],\n",
       "       [0.01],\n",
       "       [0.01],\n",
       "       [0.01]], dtype=float32)"
      ]
     },
     "execution_count": 152,
     "metadata": {},
     "output_type": "execute_result"
    }
   ],
   "source": [
    "a"
   ]
  },
  {
   "cell_type": "code",
   "execution_count": null,
   "metadata": {},
   "outputs": [],
   "source": []
  },
  {
   "cell_type": "code",
   "execution_count": null,
   "metadata": {},
   "outputs": [],
   "source": []
  }
 ],
 "metadata": {
  "kernelspec": {
   "display_name": "Python 3",
   "language": "python",
   "name": "python3"
  },
  "language_info": {
   "codemirror_mode": {
    "name": "ipython",
    "version": 3
   },
   "file_extension": ".py",
   "mimetype": "text/x-python",
   "name": "python",
   "nbconvert_exporter": "python",
   "pygments_lexer": "ipython3",
   "version": "3.7.4"
  }
 },
 "nbformat": 4,
 "nbformat_minor": 2
}
